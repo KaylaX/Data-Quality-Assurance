{
 "cells": [
  {
   "cell_type": "code",
   "execution_count": 1,
   "metadata": {},
   "outputs": [],
   "source": [
    "import pandas as pd\n",
    "import numpy as np\n",
    "import matplotlib.pyplot as plt\n",
    "import seaborn as sns\n",
    "from IPython.display import display\n",
    "import glob\n",
    "import xlrd\n",
    "%matplotlib inline"
   ]
  },
  {
   "cell_type": "code",
   "execution_count": 2,
   "metadata": {},
   "outputs": [],
   "source": [
    "topdata=pd.read_csv('top20CBSAv2.csv')"
   ]
  },
  {
   "cell_type": "code",
   "execution_count": 4,
   "metadata": {},
   "outputs": [
    {
     "data": {
      "text/plain": [
       "(374843, 54)"
      ]
     },
     "execution_count": 4,
     "metadata": {},
     "output_type": "execute_result"
    }
   ],
   "source": [
    "topdata.shape"
   ]
  },
  {
   "cell_type": "code",
   "execution_count": 6,
   "metadata": {},
   "outputs": [
    {
     "data": {
      "text/plain": [
       "Unnamed: 0              int64\n",
       "y                       int64\n",
       "yq                     object\n",
       "ca                    float64\n",
       "ca_NotNormalized      float64\n",
       "ia                    float64\n",
       "ia_NotNormalized      float64\n",
       "da                    float64\n",
       "da_NotNormalized      float64\n",
       "ma                    float64\n",
       "ma_NotNormalized      float64\n",
       "appv                  float64\n",
       "appv_NotNormalized    float64\n",
       "dr                    float64\n",
       "toar                  float64\n",
       "oar                   float64\n",
       "egi                   float64\n",
       "egi_NotNormalized     float64\n",
       "grr                   float64\n",
       "grr_NotNormalized     float64\n",
       "noi                   float64\n",
       "noi_NotNormalized     float64\n",
       "pgi                   float64\n",
       "pgi_NotNormalized     float64\n",
       "oer                   float64\n",
       "occ                   float64\n",
       "rcv                   float64\n",
       "rcv_NotNormalized     float64\n",
       "rci                   float64\n",
       "texp                  float64\n",
       "texp_NotNormalized    float64\n",
       "premise                 int64\n",
       "qualifier               int64\n",
       "interest                int64\n",
       "proptypem             float64\n",
       "proptypes             float64\n",
       "munit                   int64\n",
       "cbsa                    int64\n",
       "state                  object\n",
       "nation                float64\n",
       "zipcode                 int64\n",
       "county                float64\n",
       "lsize                 float64\n",
       "lsize2                float64\n",
       "nunits                float64\n",
       "psize                 float64\n",
       "psize2                float64\n",
       "yearb                 float64\n",
       "bclass                float64\n",
       "PropertyID              int64\n",
       "LenderID                int64\n",
       "propertytypemajor      object\n",
       "CBSAName               object\n",
       "MeasureUnit            object\n",
       "dtype: object"
      ]
     },
     "execution_count": 6,
     "metadata": {},
     "output_type": "execute_result"
    }
   ],
   "source": [
    "topdata.dtypes"
   ]
  },
  {
   "cell_type": "code",
   "execution_count": 10,
   "metadata": {},
   "outputs": [
    {
     "data": {
      "text/html": [
       "<div>\n",
       "<style scoped>\n",
       "    .dataframe tbody tr th:only-of-type {\n",
       "        vertical-align: middle;\n",
       "    }\n",
       "\n",
       "    .dataframe tbody tr th {\n",
       "        vertical-align: top;\n",
       "    }\n",
       "\n",
       "    .dataframe thead th {\n",
       "        text-align: right;\n",
       "    }\n",
       "</style>\n",
       "<table border=\"1\" class=\"dataframe\">\n",
       "  <thead>\n",
       "    <tr style=\"text-align: right;\">\n",
       "      <th></th>\n",
       "      <th>Unnamed: 0</th>\n",
       "      <th>y</th>\n",
       "      <th>yq</th>\n",
       "      <th>ca</th>\n",
       "      <th>ca_NotNormalized</th>\n",
       "      <th>ia</th>\n",
       "      <th>ia_NotNormalized</th>\n",
       "      <th>da</th>\n",
       "      <th>da_NotNormalized</th>\n",
       "      <th>ma</th>\n",
       "      <th>ma_NotNormalized</th>\n",
       "      <th>appv</th>\n",
       "      <th>appv_NotNormalized</th>\n",
       "      <th>dr</th>\n",
       "      <th>toar</th>\n",
       "      <th>oar</th>\n",
       "      <th>egi</th>\n",
       "      <th>egi_NotNormalized</th>\n",
       "      <th>grr</th>\n",
       "      <th>grr_NotNormalized</th>\n",
       "      <th>noi</th>\n",
       "      <th>noi_NotNormalized</th>\n",
       "      <th>pgi</th>\n",
       "      <th>pgi_NotNormalized</th>\n",
       "      <th>oer</th>\n",
       "      <th>occ</th>\n",
       "      <th>rcv</th>\n",
       "      <th>rcv_NotNormalized</th>\n",
       "      <th>rci</th>\n",
       "      <th>texp</th>\n",
       "      <th>texp_NotNormalized</th>\n",
       "      <th>premise</th>\n",
       "      <th>qualifier</th>\n",
       "      <th>interest</th>\n",
       "      <th>proptypem</th>\n",
       "      <th>proptypes</th>\n",
       "      <th>munit</th>\n",
       "      <th>cbsa</th>\n",
       "      <th>state</th>\n",
       "      <th>nation</th>\n",
       "      <th>zipcode</th>\n",
       "      <th>county</th>\n",
       "      <th>lsize</th>\n",
       "      <th>lsize2</th>\n",
       "      <th>nunits</th>\n",
       "      <th>psize</th>\n",
       "      <th>psize2</th>\n",
       "      <th>yearb</th>\n",
       "      <th>bclass</th>\n",
       "      <th>PropertyID</th>\n",
       "      <th>LenderID</th>\n",
       "      <th>propertytypemajor</th>\n",
       "      <th>CBSAName</th>\n",
       "      <th>MeasureUnit</th>\n",
       "    </tr>\n",
       "  </thead>\n",
       "  <tbody>\n",
       "    <tr>\n",
       "      <th>0</th>\n",
       "      <td>1</td>\n",
       "      <td>2010</td>\n",
       "      <td>2010Q3</td>\n",
       "      <td>NaN</td>\n",
       "      <td>NaN</td>\n",
       "      <td>NaN</td>\n",
       "      <td>NaN</td>\n",
       "      <td>NaN</td>\n",
       "      <td>NaN</td>\n",
       "      <td>NaN</td>\n",
       "      <td>NaN</td>\n",
       "      <td>NaN</td>\n",
       "      <td>NaN</td>\n",
       "      <td>NaN</td>\n",
       "      <td>NaN</td>\n",
       "      <td>NaN</td>\n",
       "      <td>NaN</td>\n",
       "      <td>NaN</td>\n",
       "      <td>NaN</td>\n",
       "      <td>NaN</td>\n",
       "      <td>NaN</td>\n",
       "      <td>NaN</td>\n",
       "      <td>NaN</td>\n",
       "      <td>NaN</td>\n",
       "      <td>NaN</td>\n",
       "      <td>NaN</td>\n",
       "      <td>NaN</td>\n",
       "      <td>NaN</td>\n",
       "      <td>NaN</td>\n",
       "      <td>NaN</td>\n",
       "      <td>NaN</td>\n",
       "      <td>1</td>\n",
       "      <td>1</td>\n",
       "      <td>1</td>\n",
       "      <td>10.0</td>\n",
       "      <td>222.0</td>\n",
       "      <td>1</td>\n",
       "      <td>12060</td>\n",
       "      <td>GA</td>\n",
       "      <td>1.0</td>\n",
       "      <td>30052</td>\n",
       "      <td>13297.0</td>\n",
       "      <td>1.0</td>\n",
       "      <td>NaN</td>\n",
       "      <td>NaN</td>\n",
       "      <td>1686.0</td>\n",
       "      <td>NaN</td>\n",
       "      <td>NaN</td>\n",
       "      <td>NaN</td>\n",
       "      <td>559859</td>\n",
       "      <td>12209</td>\n",
       "      <td>Residential</td>\n",
       "      <td>Atlanta-Sandy Springs-Roswell</td>\n",
       "      <td>SF</td>\n",
       "    </tr>\n",
       "    <tr>\n",
       "      <th>1</th>\n",
       "      <td>2</td>\n",
       "      <td>2010</td>\n",
       "      <td>2010Q2</td>\n",
       "      <td>NaN</td>\n",
       "      <td>NaN</td>\n",
       "      <td>NaN</td>\n",
       "      <td>NaN</td>\n",
       "      <td>NaN</td>\n",
       "      <td>NaN</td>\n",
       "      <td>NaN</td>\n",
       "      <td>NaN</td>\n",
       "      <td>NaN</td>\n",
       "      <td>NaN</td>\n",
       "      <td>NaN</td>\n",
       "      <td>NaN</td>\n",
       "      <td>NaN</td>\n",
       "      <td>NaN</td>\n",
       "      <td>NaN</td>\n",
       "      <td>NaN</td>\n",
       "      <td>NaN</td>\n",
       "      <td>NaN</td>\n",
       "      <td>NaN</td>\n",
       "      <td>NaN</td>\n",
       "      <td>NaN</td>\n",
       "      <td>NaN</td>\n",
       "      <td>NaN</td>\n",
       "      <td>NaN</td>\n",
       "      <td>NaN</td>\n",
       "      <td>NaN</td>\n",
       "      <td>NaN</td>\n",
       "      <td>NaN</td>\n",
       "      <td>1</td>\n",
       "      <td>1</td>\n",
       "      <td>1</td>\n",
       "      <td>10.0</td>\n",
       "      <td>222.0</td>\n",
       "      <td>1</td>\n",
       "      <td>12060</td>\n",
       "      <td>GA</td>\n",
       "      <td>1.0</td>\n",
       "      <td>30656</td>\n",
       "      <td>13297.0</td>\n",
       "      <td>1.0</td>\n",
       "      <td>NaN</td>\n",
       "      <td>NaN</td>\n",
       "      <td>960.0</td>\n",
       "      <td>NaN</td>\n",
       "      <td>NaN</td>\n",
       "      <td>NaN</td>\n",
       "      <td>556239</td>\n",
       "      <td>12209</td>\n",
       "      <td>Residential</td>\n",
       "      <td>Atlanta-Sandy Springs-Roswell</td>\n",
       "      <td>SF</td>\n",
       "    </tr>\n",
       "    <tr>\n",
       "      <th>2</th>\n",
       "      <td>3</td>\n",
       "      <td>2010</td>\n",
       "      <td>2010Q3</td>\n",
       "      <td>NaN</td>\n",
       "      <td>NaN</td>\n",
       "      <td>NaN</td>\n",
       "      <td>NaN</td>\n",
       "      <td>NaN</td>\n",
       "      <td>NaN</td>\n",
       "      <td>NaN</td>\n",
       "      <td>NaN</td>\n",
       "      <td>NaN</td>\n",
       "      <td>NaN</td>\n",
       "      <td>NaN</td>\n",
       "      <td>NaN</td>\n",
       "      <td>NaN</td>\n",
       "      <td>NaN</td>\n",
       "      <td>NaN</td>\n",
       "      <td>NaN</td>\n",
       "      <td>NaN</td>\n",
       "      <td>NaN</td>\n",
       "      <td>NaN</td>\n",
       "      <td>NaN</td>\n",
       "      <td>NaN</td>\n",
       "      <td>NaN</td>\n",
       "      <td>NaN</td>\n",
       "      <td>NaN</td>\n",
       "      <td>NaN</td>\n",
       "      <td>NaN</td>\n",
       "      <td>NaN</td>\n",
       "      <td>NaN</td>\n",
       "      <td>1</td>\n",
       "      <td>1</td>\n",
       "      <td>1</td>\n",
       "      <td>10.0</td>\n",
       "      <td>222.0</td>\n",
       "      <td>1</td>\n",
       "      <td>12060</td>\n",
       "      <td>GA</td>\n",
       "      <td>1.0</td>\n",
       "      <td>31024</td>\n",
       "      <td>13237.0</td>\n",
       "      <td>1.0</td>\n",
       "      <td>NaN</td>\n",
       "      <td>NaN</td>\n",
       "      <td>2080.0</td>\n",
       "      <td>NaN</td>\n",
       "      <td>NaN</td>\n",
       "      <td>NaN</td>\n",
       "      <td>560101</td>\n",
       "      <td>12209</td>\n",
       "      <td>Residential</td>\n",
       "      <td>Atlanta-Sandy Springs-Roswell</td>\n",
       "      <td>SF</td>\n",
       "    </tr>\n",
       "    <tr>\n",
       "      <th>3</th>\n",
       "      <td>9</td>\n",
       "      <td>2011</td>\n",
       "      <td>2011Q1</td>\n",
       "      <td>NaN</td>\n",
       "      <td>NaN</td>\n",
       "      <td>NaN</td>\n",
       "      <td>NaN</td>\n",
       "      <td>NaN</td>\n",
       "      <td>NaN</td>\n",
       "      <td>NaN</td>\n",
       "      <td>NaN</td>\n",
       "      <td>NaN</td>\n",
       "      <td>NaN</td>\n",
       "      <td>NaN</td>\n",
       "      <td>NaN</td>\n",
       "      <td>NaN</td>\n",
       "      <td>NaN</td>\n",
       "      <td>NaN</td>\n",
       "      <td>NaN</td>\n",
       "      <td>NaN</td>\n",
       "      <td>NaN</td>\n",
       "      <td>NaN</td>\n",
       "      <td>NaN</td>\n",
       "      <td>NaN</td>\n",
       "      <td>NaN</td>\n",
       "      <td>NaN</td>\n",
       "      <td>NaN</td>\n",
       "      <td>NaN</td>\n",
       "      <td>NaN</td>\n",
       "      <td>NaN</td>\n",
       "      <td>NaN</td>\n",
       "      <td>1</td>\n",
       "      <td>1</td>\n",
       "      <td>1</td>\n",
       "      <td>10.0</td>\n",
       "      <td>222.0</td>\n",
       "      <td>1</td>\n",
       "      <td>12060</td>\n",
       "      <td>GA</td>\n",
       "      <td>1.0</td>\n",
       "      <td>30655</td>\n",
       "      <td>13297.0</td>\n",
       "      <td>1.0</td>\n",
       "      <td>NaN</td>\n",
       "      <td>NaN</td>\n",
       "      <td>1286.0</td>\n",
       "      <td>NaN</td>\n",
       "      <td>NaN</td>\n",
       "      <td>NaN</td>\n",
       "      <td>570337</td>\n",
       "      <td>12209</td>\n",
       "      <td>Residential</td>\n",
       "      <td>Atlanta-Sandy Springs-Roswell</td>\n",
       "      <td>SF</td>\n",
       "    </tr>\n",
       "    <tr>\n",
       "      <th>4</th>\n",
       "      <td>14</td>\n",
       "      <td>2010</td>\n",
       "      <td>2010Q4</td>\n",
       "      <td>NaN</td>\n",
       "      <td>NaN</td>\n",
       "      <td>NaN</td>\n",
       "      <td>NaN</td>\n",
       "      <td>NaN</td>\n",
       "      <td>NaN</td>\n",
       "      <td>NaN</td>\n",
       "      <td>NaN</td>\n",
       "      <td>NaN</td>\n",
       "      <td>NaN</td>\n",
       "      <td>NaN</td>\n",
       "      <td>NaN</td>\n",
       "      <td>NaN</td>\n",
       "      <td>NaN</td>\n",
       "      <td>NaN</td>\n",
       "      <td>NaN</td>\n",
       "      <td>NaN</td>\n",
       "      <td>NaN</td>\n",
       "      <td>NaN</td>\n",
       "      <td>NaN</td>\n",
       "      <td>NaN</td>\n",
       "      <td>NaN</td>\n",
       "      <td>NaN</td>\n",
       "      <td>NaN</td>\n",
       "      <td>NaN</td>\n",
       "      <td>NaN</td>\n",
       "      <td>NaN</td>\n",
       "      <td>NaN</td>\n",
       "      <td>1</td>\n",
       "      <td>1</td>\n",
       "      <td>1</td>\n",
       "      <td>10.0</td>\n",
       "      <td>222.0</td>\n",
       "      <td>1</td>\n",
       "      <td>12060</td>\n",
       "      <td>GA</td>\n",
       "      <td>1.0</td>\n",
       "      <td>30014</td>\n",
       "      <td>13217.0</td>\n",
       "      <td>1.0</td>\n",
       "      <td>NaN</td>\n",
       "      <td>NaN</td>\n",
       "      <td>946.0</td>\n",
       "      <td>NaN</td>\n",
       "      <td>NaN</td>\n",
       "      <td>NaN</td>\n",
       "      <td>562116</td>\n",
       "      <td>12209</td>\n",
       "      <td>Residential</td>\n",
       "      <td>Atlanta-Sandy Springs-Roswell</td>\n",
       "      <td>SF</td>\n",
       "    </tr>\n",
       "  </tbody>\n",
       "</table>\n",
       "</div>"
      ],
      "text/plain": [
       "   Unnamed: 0     y      yq  ca  ca_NotNormalized  ia  ia_NotNormalized  da  \\\n",
       "0           1  2010  2010Q3 NaN               NaN NaN               NaN NaN   \n",
       "1           2  2010  2010Q2 NaN               NaN NaN               NaN NaN   \n",
       "2           3  2010  2010Q3 NaN               NaN NaN               NaN NaN   \n",
       "3           9  2011  2011Q1 NaN               NaN NaN               NaN NaN   \n",
       "4          14  2010  2010Q4 NaN               NaN NaN               NaN NaN   \n",
       "\n",
       "   da_NotNormalized  ma  ma_NotNormalized  appv  appv_NotNormalized  dr  toar  \\\n",
       "0               NaN NaN               NaN   NaN                 NaN NaN   NaN   \n",
       "1               NaN NaN               NaN   NaN                 NaN NaN   NaN   \n",
       "2               NaN NaN               NaN   NaN                 NaN NaN   NaN   \n",
       "3               NaN NaN               NaN   NaN                 NaN NaN   NaN   \n",
       "4               NaN NaN               NaN   NaN                 NaN NaN   NaN   \n",
       "\n",
       "   oar  egi  egi_NotNormalized  grr  grr_NotNormalized  noi  \\\n",
       "0  NaN  NaN                NaN  NaN                NaN  NaN   \n",
       "1  NaN  NaN                NaN  NaN                NaN  NaN   \n",
       "2  NaN  NaN                NaN  NaN                NaN  NaN   \n",
       "3  NaN  NaN                NaN  NaN                NaN  NaN   \n",
       "4  NaN  NaN                NaN  NaN                NaN  NaN   \n",
       "\n",
       "   noi_NotNormalized  pgi  pgi_NotNormalized  oer  occ  rcv  \\\n",
       "0                NaN  NaN                NaN  NaN  NaN  NaN   \n",
       "1                NaN  NaN                NaN  NaN  NaN  NaN   \n",
       "2                NaN  NaN                NaN  NaN  NaN  NaN   \n",
       "3                NaN  NaN                NaN  NaN  NaN  NaN   \n",
       "4                NaN  NaN                NaN  NaN  NaN  NaN   \n",
       "\n",
       "   rcv_NotNormalized  rci  texp  texp_NotNormalized  premise  qualifier  \\\n",
       "0                NaN  NaN   NaN                 NaN        1          1   \n",
       "1                NaN  NaN   NaN                 NaN        1          1   \n",
       "2                NaN  NaN   NaN                 NaN        1          1   \n",
       "3                NaN  NaN   NaN                 NaN        1          1   \n",
       "4                NaN  NaN   NaN                 NaN        1          1   \n",
       "\n",
       "   interest  proptypem  proptypes  munit   cbsa state  nation  zipcode  \\\n",
       "0         1       10.0      222.0      1  12060    GA     1.0    30052   \n",
       "1         1       10.0      222.0      1  12060    GA     1.0    30656   \n",
       "2         1       10.0      222.0      1  12060    GA     1.0    31024   \n",
       "3         1       10.0      222.0      1  12060    GA     1.0    30655   \n",
       "4         1       10.0      222.0      1  12060    GA     1.0    30014   \n",
       "\n",
       "    county  lsize  lsize2  nunits   psize  psize2  yearb  bclass  PropertyID  \\\n",
       "0  13297.0    1.0     NaN     NaN  1686.0     NaN    NaN     NaN      559859   \n",
       "1  13297.0    1.0     NaN     NaN   960.0     NaN    NaN     NaN      556239   \n",
       "2  13237.0    1.0     NaN     NaN  2080.0     NaN    NaN     NaN      560101   \n",
       "3  13297.0    1.0     NaN     NaN  1286.0     NaN    NaN     NaN      570337   \n",
       "4  13217.0    1.0     NaN     NaN   946.0     NaN    NaN     NaN      562116   \n",
       "\n",
       "   LenderID propertytypemajor                       CBSAName MeasureUnit  \n",
       "0     12209       Residential  Atlanta-Sandy Springs-Roswell          SF  \n",
       "1     12209       Residential  Atlanta-Sandy Springs-Roswell          SF  \n",
       "2     12209       Residential  Atlanta-Sandy Springs-Roswell          SF  \n",
       "3     12209       Residential  Atlanta-Sandy Springs-Roswell          SF  \n",
       "4     12209       Residential  Atlanta-Sandy Springs-Roswell          SF  "
      ]
     },
     "metadata": {},
     "output_type": "display_data"
    }
   ],
   "source": [
    "pd.options.display.max_columns=None\n",
    "display(topdata.head())"
   ]
  },
  {
   "cell_type": "code",
   "execution_count": 13,
   "metadata": {},
   "outputs": [
    {
     "data": {
      "text/plain": [
       "(89865, 54)"
      ]
     },
     "execution_count": 13,
     "metadata": {},
     "output_type": "execute_result"
    }
   ],
   "source": [
    "#remove null values in appv and noi columns\n",
    "outlierdata2 = topdata.dropna(subset=['appv_NotNormalized','noi_NotNormalized'],how='any')\n",
    "outlierdata2.shape"
   ]
  },
  {
   "cell_type": "code",
   "execution_count": 14,
   "metadata": {},
   "outputs": [
    {
     "data": {
      "text/plain": [
       "(88826, 54)"
      ]
     },
     "execution_count": 14,
     "metadata": {},
     "output_type": "execute_result"
    }
   ],
   "source": [
    "#remove 0 values in appv and noi columns\n",
    "outlierdata2= outlierdata2[(outlierdata2.appv_NotNormalized != 0) & (outlierdata2.noi_NotNormalized!= 0)]\n",
    "outlierdata2.shape"
   ]
  },
  {
   "cell_type": "code",
   "execution_count": 15,
   "metadata": {},
   "outputs": [],
   "source": [
    "#subset office, multifamily, industrial, Shopping Center, Retail-Commercial, Lodging/Hospitality datasets\n",
    "officedata=outlierdata2[outlierdata2['propertytypemajor']=='Office']"
   ]
  },
  {
   "cell_type": "code",
   "execution_count": 16,
   "metadata": {},
   "outputs": [],
   "source": [
    "officedata.to_csv('officedata2.csv')"
   ]
  },
  {
   "cell_type": "code",
   "execution_count": 17,
   "metadata": {},
   "outputs": [],
   "source": [
    "multidata=outlierdata2[outlierdata2['propertytypemajor']=='Multi-Family']"
   ]
  },
  {
   "cell_type": "code",
   "execution_count": 18,
   "metadata": {},
   "outputs": [],
   "source": [
    "multidata.to_csv('multidata2.csv')"
   ]
  },
  {
   "cell_type": "code",
   "execution_count": 19,
   "metadata": {},
   "outputs": [],
   "source": [
    "industrialdata=outlierdata2[outlierdata2['propertytypemajor']=='Industrial']\n",
    "industrialdata.to_csv('industrialdata2.csv')\n",
    "shoppingdata=outlierdata2[outlierdata2['propertytypemajor']=='Shopping Center']\n",
    "shoppingdata.to_csv('shoppingdata2.csv')\n",
    "retaildata=outlierdata2[outlierdata2['propertytypemajor']=='Retail-Commercial']\n",
    "retaildata.to_csv('retaildata2.csv')\n",
    "lodgingdata=outlierdata2[outlierdata2['propertytypemajor']=='Lodging/Hospitality']\n",
    "lodgingdata.to_csv('lodgingdata2.csv')"
   ]
  },
  {
   "cell_type": "code",
   "execution_count": 30,
   "metadata": {},
   "outputs": [
    {
     "data": {
      "text/plain": [
       "'C:\\\\Users\\\\txia\\\\Desktop\\\\EBVision'"
      ]
     },
     "execution_count": 30,
     "metadata": {},
     "output_type": "execute_result"
    }
   ],
   "source": [
    "#getting the current working diretory\n",
    "import os\n",
    "cwd = os.getcwd()\n",
    "cwd"
   ]
  },
  {
   "cell_type": "code",
   "execution_count": 36,
   "metadata": {},
   "outputs": [],
   "source": [
    "#There are only a few special characters: two different wild-cards, and character ranges are supported. \n",
    "#The patterns rules are applied to segments of the filename (stopping at the path separator, /). \n",
    "#Paths in the pattern can be relative or absolute. Shell variable names and tilde (~) are not expanded.\n",
    "#This is how you combine multiple Excel sheets into one Excel sheet\n",
    "all_data=pd.DataFrame()\n",
    "for f in glob.glob(\"C:\\\\Users\\\\txia\\\\Desktop\\\\EBVision\\\\*data2.csv\"):\n",
    "    df=pd.read_csv(f)\n",
    "    all_data=all_data.append(df,ignore_index=True)\n",
    "all_data.to_csv('outlierappv by property type.csv')"
   ]
  },
  {
   "cell_type": "code",
   "execution_count": 37,
   "metadata": {},
   "outputs": [],
   "source": [
    "import xlrd"
   ]
  },
  {
   "cell_type": "code",
   "execution_count": 45,
   "metadata": {},
   "outputs": [],
   "source": [
    "xlsx=pd.ExcelFile('outlierappv by property type.xlsx')\n",
    "df1=pd.read_excel(xlsx,'Office')\n",
    "df2=pd.read_excel(xlsx,'Multi Family')\n",
    "df3=pd.read_excel(xlsx,'Industrial')\n",
    "df4=pd.read_excel(xlsx,'Shopping Center')\n",
    "df5=pd.read_excel(xlsx,'Retail-Commercial')\n",
    "df6=pd.read_excel(xlsx,'Lodging,Hospitality')"
   ]
  },
  {
   "cell_type": "code",
   "execution_count": 57,
   "metadata": {},
   "outputs": [
    {
     "data": {
      "text/plain": [
       "(7918, 56)"
      ]
     },
     "execution_count": 57,
     "metadata": {},
     "output_type": "execute_result"
    }
   ],
   "source": [
    "df1.shape"
   ]
  },
  {
   "cell_type": "code",
   "execution_count": 47,
   "metadata": {},
   "outputs": [],
   "source": [
    "df1=df1.dropna(subset=['oar'],how='any')\n",
    "df2=df2.dropna(subset=['oar'],how='any')\n",
    "df3=df3.dropna(subset=['oar'],how='any')\n",
    "df4=df4.dropna(subset=['oar'],how='any')\n",
    "df5=df5.dropna(subset=['oar'],how='any')\n",
    "df6=df6.dropna(subset=['oar'],how='any')"
   ]
  },
  {
   "cell_type": "code",
   "execution_count": 48,
   "metadata": {},
   "outputs": [],
   "source": [
    "df1=df1[df1.oar != 0]\n",
    "df2=df2[df2.oar != 0]\n",
    "df3=df3[df3.oar != 0]\n",
    "df4=df4[df4.oar != 0]\n",
    "df5=df5[df5.oar != 0]\n",
    "df6=df6[df6.oar != 0]"
   ]
  },
  {
   "cell_type": "code",
   "execution_count": 50,
   "metadata": {},
   "outputs": [],
   "source": [
    "df1['NOIAppvRatio']=df1['noi_NotNormalized']/df1['appv_NotNormalized']\n",
    "df2['NOIAppvRatio']=df2['noi_NotNormalized']/df2['appv_NotNormalized']\n",
    "df3['NOIAppvRatio']=df3['noi_NotNormalized']/df3['appv_NotNormalized']\n",
    "df4['NOIAppvRatio']=df4['noi_NotNormalized']/df4['appv_NotNormalized']\n",
    "df5['NOIAppvRatio']=df5['noi_NotNormalized']/df5['appv_NotNormalized']\n",
    "df6['NOIAppvRatio']=df6['noi_NotNormalized']/df6['appv_NotNormalized']"
   ]
  },
  {
   "cell_type": "code",
   "execution_count": 51,
   "metadata": {},
   "outputs": [
    {
     "data": {
      "text/plain": [
       "count    7.918000e+03\n",
       "mean     5.048505e+03\n",
       "std      4.492244e+05\n",
       "min     -5.819224e-02\n",
       "25%      6.556519e-02\n",
       "50%      7.522616e-02\n",
       "75%      8.462081e-02\n",
       "max      3.997340e+07\n",
       "Name: NOIAppvRatio, dtype: float64"
      ]
     },
     "execution_count": 51,
     "metadata": {},
     "output_type": "execute_result"
    }
   ],
   "source": [
    "df1['NOIAppvRatio'].describe()"
   ]
  },
  {
   "cell_type": "code",
   "execution_count": 53,
   "metadata": {},
   "outputs": [],
   "source": [
    "df1['ratediff']=df1['NOIAppvRatio']-df1['oar']\n",
    "df2['ratediff']=df2['NOIAppvRatio']-df2['oar']\n",
    "df3['ratediff']=df3['NOIAppvRatio']-df3['oar']\n",
    "df4['ratediff']=df4['NOIAppvRatio']-df4['oar']\n",
    "df5['ratediff']=df5['NOIAppvRatio']-df5['oar']\n",
    "df6['ratediff']=df6['NOIAppvRatio']-df6['oar']"
   ]
  },
  {
   "cell_type": "code",
   "execution_count": 13,
   "metadata": {},
   "outputs": [
    {
     "data": {
      "text/plain": [
       "(7918, 57)"
      ]
     },
     "metadata": {},
     "output_type": "display_data"
    },
    {
     "data": {
      "text/plain": [
       "(12226, 57)"
      ]
     },
     "metadata": {},
     "output_type": "display_data"
    },
    {
     "data": {
      "text/plain": [
       "(4346, 57)"
      ]
     },
     "metadata": {},
     "output_type": "display_data"
    },
    {
     "data": {
      "text/plain": [
       "(1090, 57)"
      ]
     },
     "metadata": {},
     "output_type": "display_data"
    },
    {
     "data": {
      "text/plain": [
       "(9534, 57)"
      ]
     },
     "metadata": {},
     "output_type": "display_data"
    },
    {
     "data": {
      "text/plain": [
       "(530, 57)"
      ]
     },
     "metadata": {},
     "output_type": "display_data"
    }
   ],
   "source": [
    "display(df1.shape,\n",
    "df2.shape,\n",
    "df3.shape,\n",
    "df4.shape,\n",
    "df5.shape,\n",
    "df6.shape)"
   ]
  },
  {
   "cell_type": "code",
   "execution_count": 54,
   "metadata": {},
   "outputs": [],
   "source": [
    "df1.to_csv('df1.csv')\n",
    "df2.to_csv('df2.csv')\n",
    "df3.to_csv('df3.csv')\n",
    "df4.to_csv('df4.csv')\n",
    "df5.to_csv('df5.csv')\n",
    "df6.to_csv('df6.csv')"
   ]
  },
  {
   "cell_type": "code",
   "execution_count": 11,
   "metadata": {},
   "outputs": [],
   "source": [
    "df1=pd.read_csv('df1.csv')\n",
    "df2=pd.read_csv('df2.csv')\n",
    "df3=pd.read_csv('df3.csv')\n",
    "df4=pd.read_csv('df4.csv')\n",
    "df5=pd.read_csv('df5.csv')\n",
    "df6=pd.read_csv('df6.csv')"
   ]
  },
  {
   "cell_type": "code",
   "execution_count": 14,
   "metadata": {},
   "outputs": [
    {
     "data": {
      "text/plain": [
       "count       7918.0000\n",
       "mean        5047.3057\n",
       "std       449224.4261\n",
       "min        -8749.9129\n",
       "25%           -0.0033\n",
       "50%           -0.0003\n",
       "75%            0.0009\n",
       "max     39973399.9300\n",
       "Name: ratediff, dtype: float64"
      ]
     },
     "execution_count": 14,
     "metadata": {},
     "output_type": "execute_result"
    }
   ],
   "source": [
    "#remove ratediff outliers\n",
    "pd.options.display.float_format = '{:.4f}'.format\n",
    "quartiles1=df1['ratediff'].describe()\n",
    "quartiles1"
   ]
  },
  {
   "cell_type": "code",
   "execution_count": 15,
   "metadata": {},
   "outputs": [
    {
     "data": {
      "text/plain": [
       "-0.0033153629536921206"
      ]
     },
     "execution_count": 15,
     "metadata": {},
     "output_type": "execute_result"
    }
   ],
   "source": [
    "q251,q751=quartiles1['25%'],quartiles1['75%']\n",
    "q251"
   ]
  },
  {
   "cell_type": "code",
   "execution_count": 16,
   "metadata": {},
   "outputs": [
    {
     "data": {
      "text/plain": [
       "0.004215608855331473"
      ]
     },
     "execution_count": 16,
     "metadata": {},
     "output_type": "execute_result"
    }
   ],
   "source": [
    "IQR1=q751-q251\n",
    "IQR1"
   ]
  },
  {
   "cell_type": "code",
   "execution_count": 17,
   "metadata": {},
   "outputs": [
    {
     "data": {
      "text/plain": [
       "-0.01596218951968654"
      ]
     },
     "execution_count": 17,
     "metadata": {},
     "output_type": "execute_result"
    }
   ],
   "source": [
    "lowerbound1=q251-3*IQR1\n",
    "lowerbound1"
   ]
  },
  {
   "cell_type": "code",
   "execution_count": 18,
   "metadata": {},
   "outputs": [
    {
     "data": {
      "text/plain": [
       "0.013547072467633772"
      ]
     },
     "execution_count": 18,
     "metadata": {},
     "output_type": "execute_result"
    }
   ],
   "source": [
    "upperbound1=q751+3*IQR1\n",
    "upperbound1"
   ]
  },
  {
   "cell_type": "code",
   "execution_count": 19,
   "metadata": {},
   "outputs": [
    {
     "data": {
      "text/plain": [
       "(7918, 57)"
      ]
     },
     "execution_count": 19,
     "metadata": {},
     "output_type": "execute_result"
    }
   ],
   "source": [
    "df1.shape"
   ]
  },
  {
   "cell_type": "code",
   "execution_count": 20,
   "metadata": {},
   "outputs": [
    {
     "data": {
      "text/plain": [
       "(7069, 57)"
      ]
     },
     "execution_count": 20,
     "metadata": {},
     "output_type": "execute_result"
    }
   ],
   "source": [
    "df1=df1[df1.ratediff < upperbound1]\n",
    "df1.shape\n",
    "df1=df1[df1.ratediff > lowerbound1]\n",
    "df1.shape"
   ]
  },
  {
   "cell_type": "code",
   "execution_count": 41,
   "metadata": {},
   "outputs": [
    {
     "data": {
      "text/html": [
       "<div>\n",
       "<style scoped>\n",
       "    .dataframe tbody tr th:only-of-type {\n",
       "        vertical-align: middle;\n",
       "    }\n",
       "\n",
       "    .dataframe tbody tr th {\n",
       "        vertical-align: top;\n",
       "    }\n",
       "\n",
       "    .dataframe thead th {\n",
       "        text-align: right;\n",
       "    }\n",
       "</style>\n",
       "<table border=\"1\" class=\"dataframe\">\n",
       "  <thead>\n",
       "    <tr style=\"text-align: right;\">\n",
       "      <th></th>\n",
       "      <th>ratediff</th>\n",
       "    </tr>\n",
       "  </thead>\n",
       "  <tbody>\n",
       "    <tr>\n",
       "      <th>count</th>\n",
       "      <td>7069.0000</td>\n",
       "    </tr>\n",
       "    <tr>\n",
       "      <th>mean</th>\n",
       "      <td>-0.0010</td>\n",
       "    </tr>\n",
       "    <tr>\n",
       "      <th>std</th>\n",
       "      <td>0.0044</td>\n",
       "    </tr>\n",
       "    <tr>\n",
       "      <th>min</th>\n",
       "      <td>-0.0159</td>\n",
       "    </tr>\n",
       "    <tr>\n",
       "      <th>25%</th>\n",
       "      <td>-0.0025</td>\n",
       "    </tr>\n",
       "    <tr>\n",
       "      <th>50%</th>\n",
       "      <td>-0.0003</td>\n",
       "    </tr>\n",
       "    <tr>\n",
       "      <th>75%</th>\n",
       "      <td>0.0007</td>\n",
       "    </tr>\n",
       "    <tr>\n",
       "      <th>max</th>\n",
       "      <td>0.0135</td>\n",
       "    </tr>\n",
       "  </tbody>\n",
       "</table>\n",
       "</div>"
      ],
      "text/plain": [
       "       ratediff\n",
       "count 7069.0000\n",
       "mean    -0.0010\n",
       "std      0.0044\n",
       "min     -0.0159\n",
       "25%     -0.0025\n",
       "50%     -0.0003\n",
       "75%      0.0007\n",
       "max      0.0135"
      ]
     },
     "execution_count": 41,
     "metadata": {},
     "output_type": "execute_result"
    }
   ],
   "source": [
    "pd.options.display.float_format = '{:.4f}'.format\n",
    "pd.DataFrame(df1['ratediff'].describe())"
   ]
  },
  {
   "cell_type": "code",
   "execution_count": 44,
   "metadata": {},
   "outputs": [
    {
     "data": {
      "text/plain": [
       "count   9972.0000\n",
       "mean      -0.0000\n",
       "std        0.0005\n",
       "min       -0.0018\n",
       "25%       -0.0002\n",
       "50%       -0.0000\n",
       "75%        0.0001\n",
       "max        0.0017\n",
       "Name: ratediff, dtype: float64"
      ]
     },
     "execution_count": 44,
     "metadata": {},
     "output_type": "execute_result"
    }
   ],
   "source": [
    "#df2\n",
    "pd.options.display.float_format = '{:.4f}'.format\n",
    "quartiles2=df2['ratediff'].describe()\n",
    "quartiles2"
   ]
  },
  {
   "cell_type": "code",
   "execution_count": 23,
   "metadata": {},
   "outputs": [
    {
     "data": {
      "text/plain": [
       "-0.00029391455273698573"
      ]
     },
     "execution_count": 23,
     "metadata": {},
     "output_type": "execute_result"
    }
   ],
   "source": [
    "q252,q752=quartiles2['25%'],quartiles2['75%']\n",
    "q252"
   ]
  },
  {
   "cell_type": "code",
   "execution_count": 24,
   "metadata": {},
   "outputs": [
    {
     "data": {
      "text/plain": [
       "0.0004960324482822971"
      ]
     },
     "execution_count": 24,
     "metadata": {},
     "output_type": "execute_result"
    }
   ],
   "source": [
    "IQR2=q752-q252\n",
    "IQR2"
   ]
  },
  {
   "cell_type": "code",
   "execution_count": 25,
   "metadata": {},
   "outputs": [
    {
     "data": {
      "text/plain": [
       "-0.001782011897583877"
      ]
     },
     "execution_count": 25,
     "metadata": {},
     "output_type": "execute_result"
    }
   ],
   "source": [
    "lowerbound2=q252-3*IQR2\n",
    "lowerbound2"
   ]
  },
  {
   "cell_type": "code",
   "execution_count": 26,
   "metadata": {},
   "outputs": [
    {
     "data": {
      "text/plain": [
       "0.0016902152403922028"
      ]
     },
     "execution_count": 26,
     "metadata": {},
     "output_type": "execute_result"
    }
   ],
   "source": [
    "upperbound2=q752+3*IQR2\n",
    "upperbound2"
   ]
  },
  {
   "cell_type": "code",
   "execution_count": 27,
   "metadata": {},
   "outputs": [
    {
     "data": {
      "text/plain": [
       "(12226, 57)"
      ]
     },
     "execution_count": 27,
     "metadata": {},
     "output_type": "execute_result"
    }
   ],
   "source": [
    "df2.shape"
   ]
  },
  {
   "cell_type": "code",
   "execution_count": 28,
   "metadata": {},
   "outputs": [
    {
     "data": {
      "text/plain": [
       "(9972, 57)"
      ]
     },
     "execution_count": 28,
     "metadata": {},
     "output_type": "execute_result"
    }
   ],
   "source": [
    "df2=df2[df2.ratediff < upperbound2]\n",
    "df2=df2[df2.ratediff > lowerbound2]\n",
    "df2.shape"
   ]
  },
  {
   "cell_type": "code",
   "execution_count": 42,
   "metadata": {},
   "outputs": [
    {
     "data": {
      "text/html": [
       "<div>\n",
       "<style scoped>\n",
       "    .dataframe tbody tr th:only-of-type {\n",
       "        vertical-align: middle;\n",
       "    }\n",
       "\n",
       "    .dataframe tbody tr th {\n",
       "        vertical-align: top;\n",
       "    }\n",
       "\n",
       "    .dataframe thead th {\n",
       "        text-align: right;\n",
       "    }\n",
       "</style>\n",
       "<table border=\"1\" class=\"dataframe\">\n",
       "  <thead>\n",
       "    <tr style=\"text-align: right;\">\n",
       "      <th></th>\n",
       "      <th>ratediff</th>\n",
       "    </tr>\n",
       "  </thead>\n",
       "  <tbody>\n",
       "    <tr>\n",
       "      <th>count</th>\n",
       "      <td>9972.0000</td>\n",
       "    </tr>\n",
       "    <tr>\n",
       "      <th>mean</th>\n",
       "      <td>-0.0000</td>\n",
       "    </tr>\n",
       "    <tr>\n",
       "      <th>std</th>\n",
       "      <td>0.0005</td>\n",
       "    </tr>\n",
       "    <tr>\n",
       "      <th>min</th>\n",
       "      <td>-0.0018</td>\n",
       "    </tr>\n",
       "    <tr>\n",
       "      <th>25%</th>\n",
       "      <td>-0.0002</td>\n",
       "    </tr>\n",
       "    <tr>\n",
       "      <th>50%</th>\n",
       "      <td>-0.0000</td>\n",
       "    </tr>\n",
       "    <tr>\n",
       "      <th>75%</th>\n",
       "      <td>0.0001</td>\n",
       "    </tr>\n",
       "    <tr>\n",
       "      <th>max</th>\n",
       "      <td>0.0017</td>\n",
       "    </tr>\n",
       "  </tbody>\n",
       "</table>\n",
       "</div>"
      ],
      "text/plain": [
       "       ratediff\n",
       "count 9972.0000\n",
       "mean    -0.0000\n",
       "std      0.0005\n",
       "min     -0.0018\n",
       "25%     -0.0002\n",
       "50%     -0.0000\n",
       "75%      0.0001\n",
       "max      0.0017"
      ]
     },
     "execution_count": 42,
     "metadata": {},
     "output_type": "execute_result"
    }
   ],
   "source": [
    "pd.options.display.float_format = '{:.4f}'.format\n",
    "pd.DataFrame(df2['ratediff'].describe())"
   ]
  },
  {
   "cell_type": "code",
   "execution_count": 35,
   "metadata": {},
   "outputs": [
    {
     "data": {
      "text/plain": [
       "(3961, 57)"
      ]
     },
     "execution_count": 35,
     "metadata": {},
     "output_type": "execute_result"
    }
   ],
   "source": [
    "#df3\n",
    "pd.options.display.float_format = '{:.4f}'.format\n",
    "quartiles3=df3['ratediff'].describe()\n",
    "q253,q753=quartiles3['25%'],quartiles3['75%']\n",
    "IQR3=q753-q253\n",
    "lowerbound3=q253-3*IQR3\n",
    "upperbound3=q753+3*IQR3\n",
    "df3=df3[df3.ratediff < upperbound3]\n",
    "df3=df3[df3.ratediff > lowerbound3]\n",
    "df3.shape"
   ]
  },
  {
   "cell_type": "code",
   "execution_count": 45,
   "metadata": {},
   "outputs": [
    {
     "data": {
      "text/html": [
       "<div>\n",
       "<style scoped>\n",
       "    .dataframe tbody tr th:only-of-type {\n",
       "        vertical-align: middle;\n",
       "    }\n",
       "\n",
       "    .dataframe tbody tr th {\n",
       "        vertical-align: top;\n",
       "    }\n",
       "\n",
       "    .dataframe thead th {\n",
       "        text-align: right;\n",
       "    }\n",
       "</style>\n",
       "<table border=\"1\" class=\"dataframe\">\n",
       "  <thead>\n",
       "    <tr style=\"text-align: right;\">\n",
       "      <th></th>\n",
       "      <th>ratediff</th>\n",
       "    </tr>\n",
       "  </thead>\n",
       "  <tbody>\n",
       "    <tr>\n",
       "      <th>count</th>\n",
       "      <td>3961.0000</td>\n",
       "    </tr>\n",
       "    <tr>\n",
       "      <th>mean</th>\n",
       "      <td>-0.0015</td>\n",
       "    </tr>\n",
       "    <tr>\n",
       "      <th>std</th>\n",
       "      <td>0.0048</td>\n",
       "    </tr>\n",
       "    <tr>\n",
       "      <th>min</th>\n",
       "      <td>-0.0176</td>\n",
       "    </tr>\n",
       "    <tr>\n",
       "      <th>25%</th>\n",
       "      <td>-0.0030</td>\n",
       "    </tr>\n",
       "    <tr>\n",
       "      <th>50%</th>\n",
       "      <td>-0.0003</td>\n",
       "    </tr>\n",
       "    <tr>\n",
       "      <th>75%</th>\n",
       "      <td>0.0006</td>\n",
       "    </tr>\n",
       "    <tr>\n",
       "      <th>max</th>\n",
       "      <td>0.0144</td>\n",
       "    </tr>\n",
       "  </tbody>\n",
       "</table>\n",
       "</div>"
      ],
      "text/plain": [
       "       ratediff\n",
       "count 3961.0000\n",
       "mean    -0.0015\n",
       "std      0.0048\n",
       "min     -0.0176\n",
       "25%     -0.0030\n",
       "50%     -0.0003\n",
       "75%      0.0006\n",
       "max      0.0144"
      ]
     },
     "execution_count": 45,
     "metadata": {},
     "output_type": "execute_result"
    }
   ],
   "source": [
    "pd.options.display.float_format = '{:.4f}'.format\n",
    "pd.DataFrame(df3['ratediff'].describe())"
   ]
  },
  {
   "cell_type": "code",
   "execution_count": 36,
   "metadata": {},
   "outputs": [
    {
     "data": {
      "text/plain": [
       "(972, 57)"
      ]
     },
     "execution_count": 36,
     "metadata": {},
     "output_type": "execute_result"
    }
   ],
   "source": [
    "#df4\n",
    "pd.options.display.float_format = '{:.4f}'.format\n",
    "quartiles4=df4['ratediff'].describe()\n",
    "q254,q754=quartiles4['25%'],quartiles4['75%']\n",
    "IQR4=q754-q254\n",
    "lowerbound4=q254-3*IQR4\n",
    "upperbound4=q754+3*IQR4\n",
    "df4=df4[df4.ratediff < upperbound4]\n",
    "df4=df4[df4.ratediff > lowerbound4]\n",
    "df4.shape"
   ]
  },
  {
   "cell_type": "code",
   "execution_count": 46,
   "metadata": {},
   "outputs": [
    {
     "data": {
      "text/html": [
       "<div>\n",
       "<style scoped>\n",
       "    .dataframe tbody tr th:only-of-type {\n",
       "        vertical-align: middle;\n",
       "    }\n",
       "\n",
       "    .dataframe tbody tr th {\n",
       "        vertical-align: top;\n",
       "    }\n",
       "\n",
       "    .dataframe thead th {\n",
       "        text-align: right;\n",
       "    }\n",
       "</style>\n",
       "<table border=\"1\" class=\"dataframe\">\n",
       "  <thead>\n",
       "    <tr style=\"text-align: right;\">\n",
       "      <th></th>\n",
       "      <th>ratediff</th>\n",
       "    </tr>\n",
       "  </thead>\n",
       "  <tbody>\n",
       "    <tr>\n",
       "      <th>count</th>\n",
       "      <td>972.0000</td>\n",
       "    </tr>\n",
       "    <tr>\n",
       "      <th>mean</th>\n",
       "      <td>0.0003</td>\n",
       "    </tr>\n",
       "    <tr>\n",
       "      <th>std</th>\n",
       "      <td>0.0023</td>\n",
       "    </tr>\n",
       "    <tr>\n",
       "      <th>min</th>\n",
       "      <td>-0.0074</td>\n",
       "    </tr>\n",
       "    <tr>\n",
       "      <th>25%</th>\n",
       "      <td>-0.0006</td>\n",
       "    </tr>\n",
       "    <tr>\n",
       "      <th>50%</th>\n",
       "      <td>0.0000</td>\n",
       "    </tr>\n",
       "    <tr>\n",
       "      <th>75%</th>\n",
       "      <td>0.0011</td>\n",
       "    </tr>\n",
       "    <tr>\n",
       "      <th>max</th>\n",
       "      <td>0.0083</td>\n",
       "    </tr>\n",
       "  </tbody>\n",
       "</table>\n",
       "</div>"
      ],
      "text/plain": [
       "       ratediff\n",
       "count  972.0000\n",
       "mean     0.0003\n",
       "std      0.0023\n",
       "min     -0.0074\n",
       "25%     -0.0006\n",
       "50%      0.0000\n",
       "75%      0.0011\n",
       "max      0.0083"
      ]
     },
     "execution_count": 46,
     "metadata": {},
     "output_type": "execute_result"
    }
   ],
   "source": [
    "pd.options.display.float_format = '{:.4f}'.format\n",
    "pd.DataFrame(df4['ratediff'].describe())"
   ]
  },
  {
   "cell_type": "code",
   "execution_count": 37,
   "metadata": {},
   "outputs": [
    {
     "data": {
      "text/plain": [
       "(7954, 57)"
      ]
     },
     "execution_count": 37,
     "metadata": {},
     "output_type": "execute_result"
    }
   ],
   "source": [
    "#df5\n",
    "pd.options.display.float_format = '{:.4f}'.format\n",
    "quartiles5=df5['ratediff'].describe()\n",
    "q255,q755=quartiles5['25%'],quartiles5['75%']\n",
    "IQR5=q755-q255\n",
    "lowerbound5=q255-3*IQR5\n",
    "upperbound5=q755+3*IQR5\n",
    "df5=df5[df5.ratediff < upperbound5]\n",
    "df5=df5[df5.ratediff > lowerbound5]\n",
    "df5.shape"
   ]
  },
  {
   "cell_type": "code",
   "execution_count": 47,
   "metadata": {},
   "outputs": [
    {
     "data": {
      "text/html": [
       "<div>\n",
       "<style scoped>\n",
       "    .dataframe tbody tr th:only-of-type {\n",
       "        vertical-align: middle;\n",
       "    }\n",
       "\n",
       "    .dataframe tbody tr th {\n",
       "        vertical-align: top;\n",
       "    }\n",
       "\n",
       "    .dataframe thead th {\n",
       "        text-align: right;\n",
       "    }\n",
       "</style>\n",
       "<table border=\"1\" class=\"dataframe\">\n",
       "  <thead>\n",
       "    <tr style=\"text-align: right;\">\n",
       "      <th></th>\n",
       "      <th>ratediff</th>\n",
       "    </tr>\n",
       "  </thead>\n",
       "  <tbody>\n",
       "    <tr>\n",
       "      <th>count</th>\n",
       "      <td>7954.0000</td>\n",
       "    </tr>\n",
       "    <tr>\n",
       "      <th>mean</th>\n",
       "      <td>-0.0002</td>\n",
       "    </tr>\n",
       "    <tr>\n",
       "      <th>std</th>\n",
       "      <td>0.0019</td>\n",
       "    </tr>\n",
       "    <tr>\n",
       "      <th>min</th>\n",
       "      <td>-0.0063</td>\n",
       "    </tr>\n",
       "    <tr>\n",
       "      <th>25%</th>\n",
       "      <td>-0.0006</td>\n",
       "    </tr>\n",
       "    <tr>\n",
       "      <th>50%</th>\n",
       "      <td>-0.0000</td>\n",
       "    </tr>\n",
       "    <tr>\n",
       "      <th>75%</th>\n",
       "      <td>0.0004</td>\n",
       "    </tr>\n",
       "    <tr>\n",
       "      <th>max</th>\n",
       "      <td>0.0057</td>\n",
       "    </tr>\n",
       "  </tbody>\n",
       "</table>\n",
       "</div>"
      ],
      "text/plain": [
       "       ratediff\n",
       "count 7954.0000\n",
       "mean    -0.0002\n",
       "std      0.0019\n",
       "min     -0.0063\n",
       "25%     -0.0006\n",
       "50%     -0.0000\n",
       "75%      0.0004\n",
       "max      0.0057"
      ]
     },
     "execution_count": 47,
     "metadata": {},
     "output_type": "execute_result"
    }
   ],
   "source": [
    "pd.options.display.float_format = '{:.4f}'.format\n",
    "pd.DataFrame(df5['ratediff'].describe())"
   ]
  },
  {
   "cell_type": "code",
   "execution_count": 38,
   "metadata": {},
   "outputs": [
    {
     "data": {
      "text/plain": [
       "(453, 57)"
      ]
     },
     "execution_count": 38,
     "metadata": {},
     "output_type": "execute_result"
    }
   ],
   "source": [
    "#df6\n",
    "pd.options.display.float_format = '{:.4f}'.format\n",
    "quartiles6=df6['ratediff'].describe()\n",
    "q256,q756=quartiles6['25%'],quartiles6['75%']\n",
    "IQR6=q756-q256\n",
    "lowerbound6=q256-3*IQR6\n",
    "upperbound6=q756+3*IQR6\n",
    "df6=df6[df6.ratediff < upperbound6]\n",
    "df6=df6[df6.ratediff > lowerbound6]\n",
    "df6.shape"
   ]
  },
  {
   "cell_type": "code",
   "execution_count": 48,
   "metadata": {},
   "outputs": [
    {
     "data": {
      "text/html": [
       "<div>\n",
       "<style scoped>\n",
       "    .dataframe tbody tr th:only-of-type {\n",
       "        vertical-align: middle;\n",
       "    }\n",
       "\n",
       "    .dataframe tbody tr th {\n",
       "        vertical-align: top;\n",
       "    }\n",
       "\n",
       "    .dataframe thead th {\n",
       "        text-align: right;\n",
       "    }\n",
       "</style>\n",
       "<table border=\"1\" class=\"dataframe\">\n",
       "  <thead>\n",
       "    <tr style=\"text-align: right;\">\n",
       "      <th></th>\n",
       "      <th>ratediff</th>\n",
       "    </tr>\n",
       "  </thead>\n",
       "  <tbody>\n",
       "    <tr>\n",
       "      <th>count</th>\n",
       "      <td>453.0000</td>\n",
       "    </tr>\n",
       "    <tr>\n",
       "      <th>mean</th>\n",
       "      <td>0.0004</td>\n",
       "    </tr>\n",
       "    <tr>\n",
       "      <th>std</th>\n",
       "      <td>0.0034</td>\n",
       "    </tr>\n",
       "    <tr>\n",
       "      <th>min</th>\n",
       "      <td>-0.0110</td>\n",
       "    </tr>\n",
       "    <tr>\n",
       "      <th>25%</th>\n",
       "      <td>-0.0006</td>\n",
       "    </tr>\n",
       "    <tr>\n",
       "      <th>50%</th>\n",
       "      <td>0.0000</td>\n",
       "    </tr>\n",
       "    <tr>\n",
       "      <th>75%</th>\n",
       "      <td>0.0014</td>\n",
       "    </tr>\n",
       "    <tr>\n",
       "      <th>max</th>\n",
       "      <td>0.0118</td>\n",
       "    </tr>\n",
       "  </tbody>\n",
       "</table>\n",
       "</div>"
      ],
      "text/plain": [
       "       ratediff\n",
       "count  453.0000\n",
       "mean     0.0004\n",
       "std      0.0034\n",
       "min     -0.0110\n",
       "25%     -0.0006\n",
       "50%      0.0000\n",
       "75%      0.0014\n",
       "max      0.0118"
      ]
     },
     "execution_count": 48,
     "metadata": {},
     "output_type": "execute_result"
    }
   ],
   "source": [
    "pd.options.display.float_format = '{:.4f}'.format\n",
    "pd.DataFrame(df6['ratediff'].describe())"
   ]
  },
  {
   "cell_type": "code",
   "execution_count": 50,
   "metadata": {},
   "outputs": [
    {
     "data": {
      "text/html": [
       "<div>\n",
       "<style scoped>\n",
       "    .dataframe tbody tr th:only-of-type {\n",
       "        vertical-align: middle;\n",
       "    }\n",
       "\n",
       "    .dataframe tbody tr th {\n",
       "        vertical-align: top;\n",
       "    }\n",
       "\n",
       "    .dataframe thead th {\n",
       "        text-align: right;\n",
       "    }\n",
       "</style>\n",
       "<table border=\"1\" class=\"dataframe\">\n",
       "  <thead>\n",
       "    <tr style=\"text-align: right;\">\n",
       "      <th></th>\n",
       "      <th>Unnamed: 0</th>\n",
       "      <th>Unnamed: 0.1</th>\n",
       "      <th>y</th>\n",
       "      <th>yq</th>\n",
       "      <th>ca</th>\n",
       "      <th>ca_NotNormalized</th>\n",
       "      <th>ia</th>\n",
       "      <th>ia_NotNormalized</th>\n",
       "      <th>da</th>\n",
       "      <th>da_NotNormalized</th>\n",
       "      <th>...</th>\n",
       "      <th>psize2</th>\n",
       "      <th>yearb</th>\n",
       "      <th>bclass</th>\n",
       "      <th>PropertyID</th>\n",
       "      <th>LenderID</th>\n",
       "      <th>propertytypemajor</th>\n",
       "      <th>CBSAName</th>\n",
       "      <th>MeasureUnit</th>\n",
       "      <th>NOIAppvRatio</th>\n",
       "      <th>ratediff</th>\n",
       "    </tr>\n",
       "  </thead>\n",
       "  <tbody>\n",
       "    <tr>\n",
       "      <th>0</th>\n",
       "      <td>165440</td>\n",
       "      <td>479455</td>\n",
       "      <td>2017</td>\n",
       "      <td>2017Q3</td>\n",
       "      <td>nan</td>\n",
       "      <td>nan</td>\n",
       "      <td>nan</td>\n",
       "      <td>37000000.0000</td>\n",
       "      <td>nan</td>\n",
       "      <td>nan</td>\n",
       "      <td>...</td>\n",
       "      <td>nan</td>\n",
       "      <td>2017.0000</td>\n",
       "      <td>nan</td>\n",
       "      <td>450064</td>\n",
       "      <td>10506</td>\n",
       "      <td>Office</td>\n",
       "      <td>Seattle-Tacoma-Bellevue</td>\n",
       "      <td>SF</td>\n",
       "      <td>0.0537</td>\n",
       "      <td>0.0001</td>\n",
       "    </tr>\n",
       "    <tr>\n",
       "      <th>1</th>\n",
       "      <td>165447</td>\n",
       "      <td>479501</td>\n",
       "      <td>2013</td>\n",
       "      <td>2013Q3</td>\n",
       "      <td>nan</td>\n",
       "      <td>nan</td>\n",
       "      <td>nan</td>\n",
       "      <td>nan</td>\n",
       "      <td>nan</td>\n",
       "      <td>nan</td>\n",
       "      <td>...</td>\n",
       "      <td>nan</td>\n",
       "      <td>2008.0000</td>\n",
       "      <td>nan</td>\n",
       "      <td>682177</td>\n",
       "      <td>12110</td>\n",
       "      <td>Office</td>\n",
       "      <td>Los Angeles-Long Beach-Anaheim</td>\n",
       "      <td>SF</td>\n",
       "      <td>0.0671</td>\n",
       "      <td>-0.0029</td>\n",
       "    </tr>\n",
       "    <tr>\n",
       "      <th>2</th>\n",
       "      <td>165487</td>\n",
       "      <td>479638</td>\n",
       "      <td>2016</td>\n",
       "      <td>2016Q1</td>\n",
       "      <td>nan</td>\n",
       "      <td>nan</td>\n",
       "      <td>nan</td>\n",
       "      <td>nan</td>\n",
       "      <td>nan</td>\n",
       "      <td>nan</td>\n",
       "      <td>...</td>\n",
       "      <td>8.0000</td>\n",
       "      <td>2008.0000</td>\n",
       "      <td>nan</td>\n",
       "      <td>1705413</td>\n",
       "      <td>83012</td>\n",
       "      <td>Office</td>\n",
       "      <td>Chicago-Naperville-Elgin</td>\n",
       "      <td>SF</td>\n",
       "      <td>0.0875</td>\n",
       "      <td>0.0050</td>\n",
       "    </tr>\n",
       "    <tr>\n",
       "      <th>3</th>\n",
       "      <td>165488</td>\n",
       "      <td>479639</td>\n",
       "      <td>2013</td>\n",
       "      <td>2013Q4</td>\n",
       "      <td>nan</td>\n",
       "      <td>nan</td>\n",
       "      <td>nan</td>\n",
       "      <td>nan</td>\n",
       "      <td>nan</td>\n",
       "      <td>nan</td>\n",
       "      <td>...</td>\n",
       "      <td>7520.0000</td>\n",
       "      <td>2008.0000</td>\n",
       "      <td>nan</td>\n",
       "      <td>1702574</td>\n",
       "      <td>83012</td>\n",
       "      <td>Office</td>\n",
       "      <td>Miami-Fort Lauderdale-West Palm Beach</td>\n",
       "      <td>Units</td>\n",
       "      <td>0.0591</td>\n",
       "      <td>-0.0009</td>\n",
       "    </tr>\n",
       "    <tr>\n",
       "      <th>4</th>\n",
       "      <td>165511</td>\n",
       "      <td>479774</td>\n",
       "      <td>2013</td>\n",
       "      <td>2013Q3</td>\n",
       "      <td>nan</td>\n",
       "      <td>nan</td>\n",
       "      <td>nan</td>\n",
       "      <td>nan</td>\n",
       "      <td>nan</td>\n",
       "      <td>nan</td>\n",
       "      <td>...</td>\n",
       "      <td>319237.0000</td>\n",
       "      <td>2009.0000</td>\n",
       "      <td>nan</td>\n",
       "      <td>279686</td>\n",
       "      <td>11206</td>\n",
       "      <td>Office</td>\n",
       "      <td>Houston-The Woodlands-Sugar Land</td>\n",
       "      <td>SF</td>\n",
       "      <td>0.0649</td>\n",
       "      <td>-0.0001</td>\n",
       "    </tr>\n",
       "  </tbody>\n",
       "</table>\n",
       "<p>5 rows × 57 columns</p>\n",
       "</div>"
      ],
      "text/plain": [
       "   Unnamed: 0  Unnamed: 0.1     y      yq  ca  ca_NotNormalized  ia  \\\n",
       "0      165440        479455  2017  2017Q3 nan               nan nan   \n",
       "1      165447        479501  2013  2013Q3 nan               nan nan   \n",
       "2      165487        479638  2016  2016Q1 nan               nan nan   \n",
       "3      165488        479639  2013  2013Q4 nan               nan nan   \n",
       "4      165511        479774  2013  2013Q3 nan               nan nan   \n",
       "\n",
       "   ia_NotNormalized  da  da_NotNormalized    ...         psize2     yearb  \\\n",
       "0     37000000.0000 nan               nan    ...            nan 2017.0000   \n",
       "1               nan nan               nan    ...            nan 2008.0000   \n",
       "2               nan nan               nan    ...         8.0000 2008.0000   \n",
       "3               nan nan               nan    ...      7520.0000 2008.0000   \n",
       "4               nan nan               nan    ...    319237.0000 2009.0000   \n",
       "\n",
       "   bclass  PropertyID  LenderID  propertytypemajor  \\\n",
       "0     nan      450064     10506             Office   \n",
       "1     nan      682177     12110             Office   \n",
       "2     nan     1705413     83012             Office   \n",
       "3     nan     1702574     83012             Office   \n",
       "4     nan      279686     11206             Office   \n",
       "\n",
       "                                CBSAName  MeasureUnit  NOIAppvRatio  ratediff  \n",
       "0                Seattle-Tacoma-Bellevue           SF        0.0537    0.0001  \n",
       "1         Los Angeles-Long Beach-Anaheim           SF        0.0671   -0.0029  \n",
       "2               Chicago-Naperville-Elgin           SF        0.0875    0.0050  \n",
       "3  Miami-Fort Lauderdale-West Palm Beach        Units        0.0591   -0.0009  \n",
       "4       Houston-The Woodlands-Sugar Land           SF        0.0649   -0.0001  \n",
       "\n",
       "[5 rows x 57 columns]"
      ]
     },
     "execution_count": 50,
     "metadata": {},
     "output_type": "execute_result"
    }
   ],
   "source": [
    "df1.head()"
   ]
  }
 ],
 "metadata": {
  "kernelspec": {
   "display_name": "Python 3",
   "language": "python",
   "name": "python3"
  },
  "language_info": {
   "codemirror_mode": {
    "name": "ipython",
    "version": 3
   },
   "file_extension": ".py",
   "mimetype": "text/x-python",
   "name": "python",
   "nbconvert_exporter": "python",
   "pygments_lexer": "ipython3",
   "version": "3.6.5"
  }
 },
 "nbformat": 4,
 "nbformat_minor": 2
}
